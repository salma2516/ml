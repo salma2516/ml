{
 "cells": [
  {
   "cell_type": "code",
   "execution_count": 1,
   "id": "d1a062d9-28f9-4647-af6d-1d157508aff7",
   "metadata": {},
   "outputs": [],
   "source": [
    "import numpy as np"
   ]
  },
  {
   "cell_type": "code",
   "execution_count": 3,
   "id": "2e8b626d-45b2-4ccb-891e-67bb8beff2a7",
   "metadata": {},
   "outputs": [],
   "source": [
    "h1=np.array(5)"
   ]
  },
  {
   "cell_type": "code",
   "execution_count": 5,
   "id": "488bd2a7-1c69-45c6-ba7d-0337e8b651f1",
   "metadata": {},
   "outputs": [
    {
     "data": {
      "text/plain": [
       "array(5)"
      ]
     },
     "execution_count": 5,
     "metadata": {},
     "output_type": "execute_result"
    }
   ],
   "source": [
    "h1"
   ]
  },
  {
   "cell_type": "code",
   "execution_count": 7,
   "id": "1ebb60e6-f49f-4c20-88f4-f334807a6042",
   "metadata": {},
   "outputs": [
    {
     "data": {
      "text/plain": [
       "numpy.ndarray"
      ]
     },
     "execution_count": 7,
     "metadata": {},
     "output_type": "execute_result"
    }
   ],
   "source": [
    "type(h1)"
   ]
  },
  {
   "cell_type": "code",
   "execution_count": 9,
   "id": "d7695fc0-a00b-49af-bc22-fb98ec3117ee",
   "metadata": {},
   "outputs": [
    {
     "data": {
      "text/plain": [
       "range(0, 5)"
      ]
     },
     "execution_count": 9,
     "metadata": {},
     "output_type": "execute_result"
    }
   ],
   "source": [
    "range(5)"
   ]
  },
  {
   "cell_type": "code",
   "execution_count": 11,
   "id": "129dc3d6-cf97-4a8d-9a1e-1b5cf327489c",
   "metadata": {},
   "outputs": [],
   "source": [
    "h2=np.array([1,2,3,4,5])"
   ]
  },
  {
   "cell_type": "code",
   "execution_count": 13,
   "id": "ff724122-d3b5-4680-967a-b388b7b11359",
   "metadata": {},
   "outputs": [
    {
     "data": {
      "text/plain": [
       "array([1, 2, 3, 4, 5])"
      ]
     },
     "execution_count": 13,
     "metadata": {},
     "output_type": "execute_result"
    }
   ],
   "source": [
    "h2"
   ]
  },
  {
   "cell_type": "code",
   "execution_count": null,
   "id": "0ad18dda-a8e2-4499-ae2a-a0da1808cf0a",
   "metadata": {},
   "outputs": [],
   "source": []
  }
 ],
 "metadata": {
  "kernelspec": {
   "display_name": "Python 3 (ipykernel)",
   "language": "python",
   "name": "python3"
  },
  "language_info": {
   "codemirror_mode": {
    "name": "ipython",
    "version": 3
   },
   "file_extension": ".py",
   "mimetype": "text/x-python",
   "name": "python",
   "nbconvert_exporter": "python",
   "pygments_lexer": "ipython3",
   "version": "3.12.4"
  }
 },
 "nbformat": 4,
 "nbformat_minor": 5
}
