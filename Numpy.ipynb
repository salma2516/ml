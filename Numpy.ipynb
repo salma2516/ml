{
 "cells": [
  {
   "cell_type": "code",
   "execution_count": 1,
   "id": "419bbd2a-f0dd-43f2-bb73-e3cbee5673ae",
   "metadata": {
    "scrolled": true
   },
   "outputs": [],
   "source": [
    "import numpy as np"
   ]
  },
  {
   "cell_type": "code",
   "execution_count": 2,
   "id": "1c790d64-90a0-48bf-a2d2-b75a3d23bcb3",
   "metadata": {},
   "outputs": [],
   "source": [
    "h1=np.array(5)"
   ]
  },
  {
   "cell_type": "code",
   "execution_count": 3,
   "id": "1a1827c6-518a-4dd3-b3ef-7bd214d02e01",
   "metadata": {},
   "outputs": [
    {
     "data": {
      "text/plain": [
       "array(5)"
      ]
     },
     "execution_count": 3,
     "metadata": {},
     "output_type": "execute_result"
    }
   ],
   "source": [
    "h1"
   ]
  },
  {
   "cell_type": "code",
   "execution_count": 4,
   "id": "35e4d413-6aa0-4f48-a6aa-2576a3cfb6ef",
   "metadata": {},
   "outputs": [
    {
     "data": {
      "text/plain": [
       "numpy.ndarray"
      ]
     },
     "execution_count": 4,
     "metadata": {},
     "output_type": "execute_result"
    }
   ],
   "source": [
    "type(h1)"
   ]
  },
  {
   "cell_type": "code",
   "execution_count": 5,
   "id": "b4fcfc47-61ba-4c8d-8db0-1b6818d34ccb",
   "metadata": {},
   "outputs": [
    {
     "data": {
      "text/plain": [
       "range(0, 5)"
      ]
     },
     "execution_count": 5,
     "metadata": {},
     "output_type": "execute_result"
    }
   ],
   "source": [
    "range(5)"
   ]
  },
  {
   "cell_type": "code",
   "execution_count": 6,
   "id": "113ef6d2-07fb-4b65-80c9-6d37cb2ad701",
   "metadata": {},
   "outputs": [],
   "source": [
    "h2=np.array([1,2,3,4,5])"
   ]
  },
  {
   "cell_type": "code",
   "execution_count": 7,
   "id": "41f42234-d549-499a-a235-3180edfc7b78",
   "metadata": {},
   "outputs": [
    {
     "data": {
      "text/plain": [
       "array([1, 2, 3, 4, 5])"
      ]
     },
     "execution_count": 7,
     "metadata": {},
     "output_type": "execute_result"
    }
   ],
   "source": [
    "h2"
   ]
  },
  {
   "cell_type": "code",
   "execution_count": 8,
   "id": "b1e6b6c9-b93d-4ba7-9ffc-6bb8ae54018a",
   "metadata": {},
   "outputs": [],
   "source": [
    "h3=np.array([[1,2,3,4,5],[1,3,5,7,9]])"
   ]
  },
  {
   "cell_type": "code",
   "execution_count": 9,
   "id": "5d55f1c1-3009-4af3-9c90-f91275270889",
   "metadata": {},
   "outputs": [
    {
     "data": {
      "text/plain": [
       "array([[1, 2, 3, 4, 5],\n",
       "       [1, 3, 5, 7, 9]])"
      ]
     },
     "execution_count": 9,
     "metadata": {},
     "output_type": "execute_result"
    }
   ],
   "source": [
    "h3"
   ]
  },
  {
   "cell_type": "markdown",
   "id": "997a731a-fc74-4a7b-82c4-9f6d79f1e7a5",
   "metadata": {},
   "source": [
    "Array types\n",
    "\n",
    "1.Zero Array\n",
    "\n",
    "2.Ones Array\n",
    "\n",
    "3.Empty Array\n",
    "\n",
    "4.Array for range"
   ]
  },
  {
   "cell_type": "code",
   "execution_count": 10,
   "id": "a5ca6a46-0012-488f-a53b-22114c953517",
   "metadata": {},
   "outputs": [],
   "source": [
    "zero_array=np.zeros(3)"
   ]
  },
  {
   "cell_type": "code",
   "execution_count": 11,
   "id": "4053861d-bcb6-4159-a340-3106c92be819",
   "metadata": {},
   "outputs": [
    {
     "data": {
      "text/plain": [
       "array([0., 0., 0.])"
      ]
     },
     "execution_count": 11,
     "metadata": {},
     "output_type": "execute_result"
    }
   ],
   "source": [
    "zero_array"
   ]
  },
  {
   "cell_type": "code",
   "execution_count": 12,
   "id": "2e7eac45-90ef-405d-8cc2-1c6efaf24e40",
   "metadata": {},
   "outputs": [],
   "source": [
    "ones_array=np.ones(3)"
   ]
  },
  {
   "cell_type": "code",
   "execution_count": 13,
   "id": "073a849f-da95-448e-8020-1ee22a8bccc2",
   "metadata": {},
   "outputs": [
    {
     "data": {
      "text/plain": [
       "array([1., 1., 1.])"
      ]
     },
     "execution_count": 13,
     "metadata": {},
     "output_type": "execute_result"
    }
   ],
   "source": [
    "ones_array"
   ]
  },
  {
   "cell_type": "code",
   "execution_count": 14,
   "id": "2cd25580-bba2-4890-a7dc-df2f0811a096",
   "metadata": {},
   "outputs": [],
   "source": [
    "ones_array=np.ones((4,3))"
   ]
  },
  {
   "cell_type": "code",
   "execution_count": 15,
   "id": "d1b77c3d-068b-4b29-9f92-581c4c370d43",
   "metadata": {},
   "outputs": [
    {
     "data": {
      "text/plain": [
       "array([[1., 1., 1.],\n",
       "       [1., 1., 1.],\n",
       "       [1., 1., 1.],\n",
       "       [1., 1., 1.]])"
      ]
     },
     "execution_count": 15,
     "metadata": {},
     "output_type": "execute_result"
    }
   ],
   "source": [
    "ones_array"
   ]
  },
  {
   "cell_type": "code",
   "execution_count": 16,
   "id": "4fe11e2a-5727-41ea-9d43-aa7619ccdeb2",
   "metadata": {},
   "outputs": [],
   "source": [
    "h4=np.arange(3)"
   ]
  },
  {
   "cell_type": "code",
   "execution_count": 17,
   "id": "32fead09-4b63-4cd7-bb6a-80878d293434",
   "metadata": {},
   "outputs": [
    {
     "data": {
      "text/plain": [
       "array([0, 1, 2])"
      ]
     },
     "execution_count": 17,
     "metadata": {},
     "output_type": "execute_result"
    }
   ],
   "source": [
    "h4"
   ]
  },
  {
   "cell_type": "code",
   "execution_count": 18,
   "id": "efac5755-aed7-4b90-9a1e-1c42e275a409",
   "metadata": {},
   "outputs": [],
   "source": [
    "h5=np.arange(2,18)"
   ]
  },
  {
   "cell_type": "code",
   "execution_count": 19,
   "id": "fc0159fa-1b2f-4d54-97bb-944dad0cb03f",
   "metadata": {},
   "outputs": [
    {
     "data": {
      "text/plain": [
       "array([ 2,  3,  4,  5,  6,  7,  8,  9, 10, 11, 12, 13, 14, 15, 16, 17])"
      ]
     },
     "execution_count": 19,
     "metadata": {},
     "output_type": "execute_result"
    }
   ],
   "source": [
    "h5"
   ]
  },
  {
   "cell_type": "code",
   "execution_count": 20,
   "id": "5e474c0c-8d03-4903-bcbe-aef3cb27a334",
   "metadata": {},
   "outputs": [],
   "source": [
    "h6=np.transpose(h3)"
   ]
  },
  {
   "cell_type": "code",
   "execution_count": 21,
   "id": "6e382b77-eb7d-463a-b054-e4a10b7fc4f6",
   "metadata": {
    "jp-MarkdownHeadingCollapsed": true
   },
   "outputs": [
    {
     "data": {
      "text/plain": [
       "array([[1, 1],\n",
       "       [2, 3],\n",
       "       [3, 5],\n",
       "       [4, 7],\n",
       "       [5, 9]])"
      ]
     },
     "execution_count": 21,
     "metadata": {},
     "output_type": "execute_result"
    }
   ],
   "source": [
    "h6"
   ]
  },
  {
   "cell_type": "code",
   "execution_count": 22,
   "id": "3c4a2590-786e-4916-a566-499ccfb6b019",
   "metadata": {},
   "outputs": [],
   "source": [
    "h7=np.ravel(h6)"
   ]
  },
  {
   "cell_type": "code",
   "execution_count": 23,
   "id": "3fdb4e46-37f7-4cc6-aaab-da301ffa4c25",
   "metadata": {},
   "outputs": [
    {
     "data": {
      "text/plain": [
       "array([1, 1, 2, 3, 3, 5, 4, 7, 5, 9])"
      ]
     },
     "execution_count": 23,
     "metadata": {},
     "output_type": "execute_result"
    }
   ],
   "source": [
    "h7"
   ]
  },
  {
   "cell_type": "markdown",
   "id": "db9d55ed-da02-4423-8d6a-f506b4c20360",
   "metadata": {},
   "source": [
    "Concatenate"
   ]
  },
  {
   "cell_type": "code",
   "execution_count": 24,
   "id": "44640e02-66ad-46e2-aff5-a68e2880c85d",
   "metadata": {},
   "outputs": [],
   "source": [
    "h1=np.array([2,3,5,6,7])\n",
    "h2=np.array([1,2,3,4,5])"
   ]
  },
  {
   "cell_type": "code",
   "execution_count": 25,
   "id": "a2486662-d7e5-49cd-825b-3412f0e782d3",
   "metadata": {},
   "outputs": [
    {
     "data": {
      "text/plain": [
       "array([2, 3, 5, 6, 7])"
      ]
     },
     "execution_count": 25,
     "metadata": {},
     "output_type": "execute_result"
    }
   ],
   "source": [
    "h1"
   ]
  },
  {
   "cell_type": "code",
   "execution_count": 26,
   "id": "739bf5d4-57f7-4d9e-9e61-9e6b0fa6c688",
   "metadata": {},
   "outputs": [
    {
     "data": {
      "text/plain": [
       "array([1, 2, 3, 4, 5])"
      ]
     },
     "execution_count": 26,
     "metadata": {},
     "output_type": "execute_result"
    }
   ],
   "source": [
    "h2"
   ]
  },
  {
   "cell_type": "code",
   "execution_count": 27,
   "id": "379745ca-f969-468e-951e-153f4bd4c3ea",
   "metadata": {},
   "outputs": [],
   "source": [
    "concat=np.concatenate([h1,h2])"
   ]
  },
  {
   "cell_type": "code",
   "execution_count": 33,
   "id": "899a4751-d483-4579-8e8b-ed875140b2bb",
   "metadata": {},
   "outputs": [
    {
     "data": {
      "text/plain": [
       "array([2, 3, 5, 6, 7, 1, 2, 3, 4, 5])"
      ]
     },
     "execution_count": 33,
     "metadata": {},
     "output_type": "execute_result"
    }
   ],
   "source": [
    "concat"
   ]
  },
  {
   "cell_type": "code",
   "execution_count": 34,
   "id": "6f69d3e2-2001-41b7-98f1-9059a18abe4d",
   "metadata": {},
   "outputs": [],
   "source": [
    "hori=np.vstack((h1,h2))"
   ]
  },
  {
   "cell_type": "code",
   "execution_count": 35,
   "id": "50221adc-793c-4607-8b4a-55054989eee0",
   "metadata": {},
   "outputs": [
    {
     "data": {
      "text/plain": [
       "array([[2, 3, 5, 6, 7],\n",
       "       [1, 2, 3, 4, 5]])"
      ]
     },
     "execution_count": 35,
     "metadata": {},
     "output_type": "execute_result"
    }
   ],
   "source": [
    "hori"
   ]
  },
  {
   "cell_type": "code",
   "execution_count": 36,
   "id": "403d3836-a661-4863-88ca-d5cd4bbe1de8",
   "metadata": {},
   "outputs": [],
   "source": [
    "hori=np.hstack((h1,h2))"
   ]
  },
  {
   "cell_type": "code",
   "execution_count": 37,
   "id": "9829067c-d4d8-4229-9046-42d84eeaee8a",
   "metadata": {},
   "outputs": [
    {
     "data": {
      "text/plain": [
       "array([2, 3, 5, 6, 7, 1, 2, 3, 4, 5])"
      ]
     },
     "execution_count": 37,
     "metadata": {},
     "output_type": "execute_result"
    }
   ],
   "source": [
    "hori"
   ]
  },
  {
   "cell_type": "code",
   "execution_count": null,
   "id": "a2c8e838-9496-46f4-8a1f-801a69b85794",
   "metadata": {},
   "outputs": [],
   "source": []
  }
 ],
 "metadata": {
  "kernelspec": {
   "display_name": "Python 3 (ipykernel)",
   "language": "python",
   "name": "python3"
  },
  "language_info": {
   "codemirror_mode": {
    "name": "ipython",
    "version": 3
   },
   "file_extension": ".py",
   "mimetype": "text/x-python",
   "name": "python",
   "nbconvert_exporter": "python",
   "pygments_lexer": "ipython3",
   "version": "3.11.7"
  }
 },
 "nbformat": 4,
 "nbformat_minor": 5
}
